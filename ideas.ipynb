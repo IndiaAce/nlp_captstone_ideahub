{
 "cells": [
  {
   "cell_type": "markdown",
   "metadata": {},
   "source": [
    "## NLP For CVE IOC Matching\n",
    "---------------------------        ---      ---------------------------------       ---      -----------------------------         ----      ---------------------------\n",
    "\n",
    "*Scraping Different Sources for Threat Reports and Vulns*\n",
    "1. Extract the raw CVE, and look for anything matching in those news reports for CVE.\n",
    "2. Manual validation of the threat.\n",
    "3. Utilize https://newspaper.readthedocs.io/en/latest/ to scrape archive/other threat feed places\n",
    "4. Use SpaCy to create a custom pipeline to identify, summarize, and extract data."
   ]
  }
 ],
 "metadata": {
  "language_info": {
   "name": "python"
  }
 },
 "nbformat": 4,
 "nbformat_minor": 2
}
